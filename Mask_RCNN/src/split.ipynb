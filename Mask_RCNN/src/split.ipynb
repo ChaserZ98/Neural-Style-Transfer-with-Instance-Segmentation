{
 "cells": [
  {
   "cell_type": "code",
   "execution_count": 2,
   "metadata": {},
   "outputs": [],
   "source": [
    "import os\n",
    "import shutil\n",
    "import json"
   ]
  },
  {
   "cell_type": "code",
   "execution_count": 4,
   "metadata": {},
   "outputs": [
    {
     "name": "stdout",
     "output_type": "stream",
     "text": [
      "True\n",
      "3784 473 474\n"
     ]
    }
   ],
   "source": [
    "with open(\"../data/img_dict.json\") as f:\n",
    "    img_dict = json.load(f)\n",
    "train_ids = set([file_name[:-5] for file_name in img_dict[\"train\"]])\n",
    "val_ids = set([file_name[:-5] for file_name in img_dict[\"val\"]])\n",
    "test_ids = set([file_name[:-5] for file_name in img_dict[\"test\"]])\n",
    "\n",
    "print(\"000041\" in test_ids)\n",
    "\n",
    "print(len(train_ids), len(val_ids), len(test_ids))\n",
    "\n",
    "dest_dir = \"../dataset\"\n",
    "img_train_dir = os.path.join(dest_dir, \"images\", \"train\")\n",
    "img_val_dir = os.path.join(dest_dir, \"images\", \"val\")\n",
    "img_test_dir = os.path.join(dest_dir, \"images\", \"test\")\n",
    "annotations_train_dir = os.path.join(dest_dir, \"annotations\", \"train\")\n",
    "annotations_val_dir = os.path.join(dest_dir, \"annotations\", \"val\")\n",
    "annotations_test_dir = os.path.join(dest_dir, \"annotations\", \"test\")\n",
    "\n",
    "#for dir_ in [img_train_dir, img_val_dir, img_test_dir, annotations_train_dir, annotations_val_dir, annotations_test_dir]:\n",
    "#    os.makedirs(dir_)"
   ]
  },
  {
   "cell_type": "code",
   "execution_count": 4,
   "metadata": {},
   "outputs": [],
   "source": [
    "for root, _, files in os.walk(\"../data/images/\"):\n",
    "    for file_name in files:\n",
    "        file_id = file_name.split(\".\")[0]\n",
    "        if file_id in train_ids:\n",
    "            shutil.move(os.path.join(root, file_name), img_train_dir)\n",
    "        elif file_id in val_ids:\n",
    "            shutil.move(os.path.join(root, file_name), img_val_dir)\n",
    "        elif file_id in test_ids:\n",
    "            shutil.move(os.path.join(root, file_name), img_test_dir)"
   ]
  },
  {
   "cell_type": "code",
   "execution_count": 5,
   "metadata": {},
   "outputs": [],
   "source": [
    "for root, _, files in os.walk(\"../data/annotations/\"):\n",
    "    for file_name in files:\n",
    "        file_id = file_name.split(\".\")[0]\n",
    "        if file_id in train_ids:\n",
    "            shutil.move(os.path.join(root, file_name), annotations_train_dir)\n",
    "        elif file_id in val_ids:\n",
    "            shutil.move(os.path.join(root, file_name), annotations_val_dir)\n",
    "        elif file_id in test_ids:\n",
    "            shutil.move(os.path.join(root, file_name), annotations_test_dir)"
   ]
  }
 ],
 "metadata": {
  "kernelspec": {
   "display_name": "Python 3.10.8 ('env': venv)",
   "language": "python",
   "name": "python3"
  },
  "language_info": {
   "codemirror_mode": {
    "name": "ipython",
    "version": 3
   },
   "file_extension": ".py",
   "mimetype": "text/x-python",
   "name": "python",
   "nbconvert_exporter": "python",
   "pygments_lexer": "ipython3",
   "version": "3.10.9"
  },
  "orig_nbformat": 4,
  "vscode": {
   "interpreter": {
    "hash": "57cc7683e030df8cfe60e0d94217f13743bc5ae396865248913a505fccb4a2db"
   }
  }
 },
 "nbformat": 4,
 "nbformat_minor": 2
}
