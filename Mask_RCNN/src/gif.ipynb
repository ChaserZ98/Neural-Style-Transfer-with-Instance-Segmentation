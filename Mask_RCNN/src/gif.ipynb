{
 "cells": [
  {
   "cell_type": "code",
   "execution_count": 131,
   "metadata": {},
   "outputs": [],
   "source": [
    "import os\n",
    "import json\n",
    "\n",
    "import cv2\n",
    "import numpy as np"
   ]
  },
  {
   "cell_type": "code",
   "execution_count": 132,
   "metadata": {},
   "outputs": [],
   "source": [
    "out_path = \"../out/gif/\"\n",
    "if not os.path.exists(out_path):\n",
    "    os.makedirs(out_path)\n",
    "    \n",
    "file_id = \"002660\""
   ]
  },
  {
   "cell_type": "code",
   "execution_count": 133,
   "metadata": {},
   "outputs": [
    {
     "data": {
      "text/plain": [
       "True"
      ]
     },
     "execution_count": 133,
     "metadata": {},
     "output_type": "execute_result"
    }
   ],
   "source": [
    "img = cv2.imread(f\"../dataset/images/train/{file_id}.jpg\")\n",
    "with open(f\"../dataset/annotations/train/{file_id}.json\") as f:\n",
    "    img_id, annotations = json.load(f)\n",
    "bboxes = annotations[\"boxes\"]\n",
    "masks = np.array(annotations[\"masks\"])\n",
    "\n",
    "cv2.imwrite(os.path.join(out_path, f\"{file_id}.jpg\"), img)"
   ]
  },
  {
   "cell_type": "code",
   "execution_count": 134,
   "metadata": {},
   "outputs": [
    {
     "name": "stdout",
     "output_type": "stream",
     "text": [
      "[23, 136, 526, 742] [23, 136] [526, 742]\n",
      "[28, 114, 291, 744] [28, 114] [291, 744]\n"
     ]
    },
    {
     "data": {
      "text/plain": [
       "True"
      ]
     },
     "execution_count": 134,
     "metadata": {},
     "output_type": "execute_result"
    }
   ],
   "source": [
    "for box in bboxes:\n",
    "    box = [int(pt) for pt in box]\n",
    "    print(box, box[:2], box[2:])\n",
    "    cv2.rectangle(img=img, pt1=tuple(box[:2]), pt2=tuple(box[2:]), color=(255, 255, 0), thickness=2)\n",
    "cv2.imwrite(os.path.join(out_path, f\"{file_id}_bboxes.jpg\"), img)"
   ]
  },
  {
   "cell_type": "code",
   "execution_count": 135,
   "metadata": {},
   "outputs": [
    {
     "data": {
      "text/plain": [
       "True"
      ]
     },
     "execution_count": 135,
     "metadata": {},
     "output_type": "execute_result"
    }
   ],
   "source": [
    "overall_mask = np.sum(masks, axis=0)\n",
    "overall_mask[overall_mask > 0] = 1\n",
    "blend = 0.60\n",
    "cyan = np.full_like(img, (255,255,0))\n",
    "img_cyan = cv2.addWeighted(img, blend, cyan, 1-blend, 0)\n",
    "idx = (overall_mask == 1)\n",
    "img[idx] = img_cyan[idx]\n",
    "cv2.imwrite(os.path.join(out_path, f\"{file_id}_masks.jpg\"), img)"
   ]
  }
 ],
 "metadata": {
  "kernelspec": {
   "display_name": "Python 3.10.8 ('env': venv)",
   "language": "python",
   "name": "python3"
  },
  "language_info": {
   "codemirror_mode": {
    "name": "ipython",
    "version": 3
   },
   "file_extension": ".py",
   "mimetype": "text/x-python",
   "name": "python",
   "nbconvert_exporter": "python",
   "pygments_lexer": "ipython3",
   "version": "3.10.9"
  },
  "orig_nbformat": 4,
  "vscode": {
   "interpreter": {
    "hash": "57cc7683e030df8cfe60e0d94217f13743bc5ae396865248913a505fccb4a2db"
   }
  }
 },
 "nbformat": 4,
 "nbformat_minor": 2
}
